{
 "cells": [
  {
   "cell_type": "markdown",
   "metadata": {},
   "source": [
    "# 编程启蒙课（大纲）"
   ]
  },
  {
   "cell_type": "markdown",
   "metadata": {},
   "source": [
    "### 目录：<br>\n",
    "\n",
    "#### 前言：什么是编程？学编程对孩子有什么好处？\n",
    "    1、编程的乐趣\n",
    "    2、编程是一项硬核工作技能\n",
    "    3、如何开始学？\n",
    "    4、在线资源\n",
    "    \n",
    "#### 第一章：准备工作：准备你的编程环境\n",
    "    1、下载Python\n",
    "    2、安装Python\n",
    "    3、测试你的Python 是否安装成功\n",
    "    4、开始用你的Python写程序吧\n",
    "    5、挑战1\n",
    "    \n",
    "#### 第二章：乌龟画图工具：用Python作画\n",
    "    1、我们第一个乌龟程序\n",
    "        乌龟如何工作\n",
    "        乌龟转圈\n",
    "    2、给画加点颜色\n",
    "    3、挑战2\n",
    "    \n",
    "#### 第三章：数字和变量：用Python 进行数学计算\n",
    "    1、Python中的数字和数学运算\n",
    "      数字\n",
    "      操作符\n",
    "      通过Python进行数学运算\n",
    "      报错了\n",
    "      定义一个变量\n",
    "    2、字符串\n",
    "    3、给我们的画增加一点效果\n",
    "    4、列表\n",
    "    5、用Python做家庭作业\n",
    "    6、挑战3\n",
    "    \n",
    "#### 第四章：循环的乐趣\n",
    "    1、\n",
    "\n",
    "#### 第五章：条件判断\n",
    "\n",
    "#### 第六章：猜随机数的游戏\n",
    "\n",
    "#### 第七章：定义一个函数\n",
    "\n",
    "#### 第八章：计时器和动画\n",
    "\n",
    "#### 第九章：开始游戏\n",
    "\n",
    "#### 第十章：游戏编程\n",
    "\n",
    "#### 附录1：Windows /Mac 如何设置Python\n",
    "\n",
    "#### 附录2：Windows /Mac 如何设置Pygame\n",
    "\n",
    "#### 附录3：创建你自己的模块\n",
    "\n"
   ]
  }
 ],
 "metadata": {
  "kernelspec": {
   "display_name": "Python 3",
   "language": "python",
   "name": "python3"
  },
  "language_info": {
   "codemirror_mode": {
    "name": "ipython",
    "version": 3
   },
   "file_extension": ".py",
   "mimetype": "text/x-python",
   "name": "python",
   "nbconvert_exporter": "python",
   "pygments_lexer": "ipython3",
   "version": "3.7.1"
  }
 },
 "nbformat": 4,
 "nbformat_minor": 2
}
